{
 "cells": [
  {
   "cell_type": "code",
   "execution_count": 1,
   "metadata": {},
   "outputs": [],
   "source": [
    "import pandas as pd\n",
    "import numpy as np\n",
    "from matplotlib import pyplot as plt"
   ]
  },
  {
   "cell_type": "code",
   "execution_count": 2,
   "metadata": {},
   "outputs": [],
   "source": [
    "labels = pd.read_csv(\"sample_submission.csv\")\n",
    "x_test = pd.read_csv(\"test.csv\")\n",
    "data = pd.read_csv(\"train.csv\")"
   ]
  },
  {
   "cell_type": "code",
   "execution_count": 4,
   "metadata": {},
   "outputs": [
    {
     "data": {
      "text/plain": [
       "(28000, 2)"
      ]
     },
     "execution_count": 4,
     "metadata": {},
     "output_type": "execute_result"
    }
   ],
   "source": [
    "np.shape(labels)"
   ]
  },
  {
   "cell_type": "code",
   "execution_count": 3,
   "metadata": {},
   "outputs": [
    {
     "data": {
      "text/html": [
       "<div>\n",
       "<style scoped>\n",
       "    .dataframe tbody tr th:only-of-type {\n",
       "        vertical-align: middle;\n",
       "    }\n",
       "\n",
       "    .dataframe tbody tr th {\n",
       "        vertical-align: top;\n",
       "    }\n",
       "\n",
       "    .dataframe thead th {\n",
       "        text-align: right;\n",
       "    }\n",
       "</style>\n",
       "<table border=\"1\" class=\"dataframe\">\n",
       "  <thead>\n",
       "    <tr style=\"text-align: right;\">\n",
       "      <th></th>\n",
       "      <th>ImageId</th>\n",
       "      <th>Label</th>\n",
       "    </tr>\n",
       "  </thead>\n",
       "  <tbody>\n",
       "    <tr>\n",
       "      <th>16930</th>\n",
       "      <td>16931</td>\n",
       "      <td>0</td>\n",
       "    </tr>\n",
       "  </tbody>\n",
       "</table>\n",
       "</div>"
      ],
      "text/plain": [
       "       ImageId  Label\n",
       "16930    16931      0"
      ]
     },
     "execution_count": 3,
     "metadata": {},
     "output_type": "execute_result"
    }
   ],
   "source": [
    "labels.sample()"
   ]
  },
  {
   "cell_type": "code",
   "execution_count": 5,
   "metadata": {},
   "outputs": [
    {
     "name": "stdout",
     "output_type": "stream",
     "text": [
      "<bound method NDFrame.describe of        label  pixel0  pixel1  pixel2  pixel3  pixel4  pixel5  pixel6  pixel7  \\\n",
      "0          1       0       0       0       0       0       0       0       0   \n",
      "1          0       0       0       0       0       0       0       0       0   \n",
      "2          1       0       0       0       0       0       0       0       0   \n",
      "3          4       0       0       0       0       0       0       0       0   \n",
      "4          0       0       0       0       0       0       0       0       0   \n",
      "...      ...     ...     ...     ...     ...     ...     ...     ...     ...   \n",
      "41995      0       0       0       0       0       0       0       0       0   \n",
      "41996      1       0       0       0       0       0       0       0       0   \n",
      "41997      7       0       0       0       0       0       0       0       0   \n",
      "41998      6       0       0       0       0       0       0       0       0   \n",
      "41999      9       0       0       0       0       0       0       0       0   \n",
      "\n",
      "       pixel8  ...  pixel774  pixel775  pixel776  pixel777  pixel778  \\\n",
      "0           0  ...         0         0         0         0         0   \n",
      "1           0  ...         0         0         0         0         0   \n",
      "2           0  ...         0         0         0         0         0   \n",
      "3           0  ...         0         0         0         0         0   \n",
      "4           0  ...         0         0         0         0         0   \n",
      "...       ...  ...       ...       ...       ...       ...       ...   \n",
      "41995       0  ...         0         0         0         0         0   \n",
      "41996       0  ...         0         0         0         0         0   \n",
      "41997       0  ...         0         0         0         0         0   \n",
      "41998       0  ...         0         0         0         0         0   \n",
      "41999       0  ...         0         0         0         0         0   \n",
      "\n",
      "       pixel779  pixel780  pixel781  pixel782  pixel783  \n",
      "0             0         0         0         0         0  \n",
      "1             0         0         0         0         0  \n",
      "2             0         0         0         0         0  \n",
      "3             0         0         0         0         0  \n",
      "4             0         0         0         0         0  \n",
      "...         ...       ...       ...       ...       ...  \n",
      "41995         0         0         0         0         0  \n",
      "41996         0         0         0         0         0  \n",
      "41997         0         0         0         0         0  \n",
      "41998         0         0         0         0         0  \n",
      "41999         0         0         0         0         0  \n",
      "\n",
      "[42000 rows x 785 columns]>\n"
     ]
    }
   ],
   "source": [
    "print(data.describe)"
   ]
  },
  {
   "cell_type": "code",
   "execution_count": 6,
   "metadata": {},
   "outputs": [
    {
     "data": {
      "text/html": [
       "<div>\n",
       "<style scoped>\n",
       "    .dataframe tbody tr th:only-of-type {\n",
       "        vertical-align: middle;\n",
       "    }\n",
       "\n",
       "    .dataframe tbody tr th {\n",
       "        vertical-align: top;\n",
       "    }\n",
       "\n",
       "    .dataframe thead th {\n",
       "        text-align: right;\n",
       "    }\n",
       "</style>\n",
       "<table border=\"1\" class=\"dataframe\">\n",
       "  <thead>\n",
       "    <tr style=\"text-align: right;\">\n",
       "      <th></th>\n",
       "      <th>pixel0</th>\n",
       "      <th>pixel1</th>\n",
       "      <th>pixel2</th>\n",
       "      <th>pixel3</th>\n",
       "      <th>pixel4</th>\n",
       "      <th>pixel5</th>\n",
       "      <th>pixel6</th>\n",
       "      <th>pixel7</th>\n",
       "      <th>pixel8</th>\n",
       "      <th>pixel9</th>\n",
       "      <th>...</th>\n",
       "      <th>pixel774</th>\n",
       "      <th>pixel775</th>\n",
       "      <th>pixel776</th>\n",
       "      <th>pixel777</th>\n",
       "      <th>pixel778</th>\n",
       "      <th>pixel779</th>\n",
       "      <th>pixel780</th>\n",
       "      <th>pixel781</th>\n",
       "      <th>pixel782</th>\n",
       "      <th>pixel783</th>\n",
       "    </tr>\n",
       "  </thead>\n",
       "  <tbody>\n",
       "    <tr>\n",
       "      <th>19959</th>\n",
       "      <td>0</td>\n",
       "      <td>0</td>\n",
       "      <td>0</td>\n",
       "      <td>0</td>\n",
       "      <td>0</td>\n",
       "      <td>0</td>\n",
       "      <td>0</td>\n",
       "      <td>0</td>\n",
       "      <td>0</td>\n",
       "      <td>0</td>\n",
       "      <td>...</td>\n",
       "      <td>0</td>\n",
       "      <td>0</td>\n",
       "      <td>0</td>\n",
       "      <td>0</td>\n",
       "      <td>0</td>\n",
       "      <td>0</td>\n",
       "      <td>0</td>\n",
       "      <td>0</td>\n",
       "      <td>0</td>\n",
       "      <td>0</td>\n",
       "    </tr>\n",
       "  </tbody>\n",
       "</table>\n",
       "<p>1 rows × 784 columns</p>\n",
       "</div>"
      ],
      "text/plain": [
       "       pixel0  pixel1  pixel2  pixel3  pixel4  pixel5  pixel6  pixel7  pixel8  \\\n",
       "19959       0       0       0       0       0       0       0       0       0   \n",
       "\n",
       "       pixel9  ...  pixel774  pixel775  pixel776  pixel777  pixel778  \\\n",
       "19959       0  ...         0         0         0         0         0   \n",
       "\n",
       "       pixel779  pixel780  pixel781  pixel782  pixel783  \n",
       "19959         0         0         0         0         0  \n",
       "\n",
       "[1 rows x 784 columns]"
      ]
     },
     "execution_count": 6,
     "metadata": {},
     "output_type": "execute_result"
    }
   ],
   "source": [
    "x_test.sample()"
   ]
  },
  {
   "cell_type": "code",
   "execution_count": 7,
   "metadata": {},
   "outputs": [
    {
     "data": {
      "text/plain": [
       "(28000, 784)"
      ]
     },
     "execution_count": 7,
     "metadata": {},
     "output_type": "execute_result"
    }
   ],
   "source": [
    "np.shape(x_test)"
   ]
  },
  {
   "cell_type": "code",
   "execution_count": 8,
   "metadata": {},
   "outputs": [],
   "source": [
    "a = np.random.randint(10,size=10, dtype=int)"
   ]
  },
  {
   "cell_type": "code",
   "execution_count": 3,
   "metadata": {},
   "outputs": [
    {
     "data": {
      "text/plain": [
       "(784, 42000)"
      ]
     },
     "execution_count": 3,
     "metadata": {},
     "output_type": "execute_result"
    }
   ],
   "source": [
    "y_train = np.array(data).T[0]\n",
    "x_train = np.array(data).T[1:]\n",
    "x_train = x_train/255\n",
    "\n",
    "x_test = np.array(x_test).T/255\n",
    "x_train.shape"
   ]
  },
  {
   "cell_type": "code",
   "execution_count": 10,
   "metadata": {},
   "outputs": [
    {
     "data": {
      "text/plain": [
       "9"
      ]
     },
     "execution_count": 10,
     "metadata": {},
     "output_type": "execute_result"
    }
   ],
   "source": [
    "np.max(y_train)"
   ]
  },
  {
   "cell_type": "code",
   "execution_count": 27,
   "metadata": {},
   "outputs": [],
   "source": [
    "def init_param():\n",
    "    w1 = np.random.rand(70,784)-0.5\n",
    "    b1 = np.random.rand(70,1)-0.5\n",
    "    w2 = np.random.rand(30,50)-0.5\n",
    "    b2 = np.random.rand(30,1)-0.5\n",
    "    w3 = np.random.rand(10,30)-0.5\n",
    "    b3 = np.random.rand(10,1)-0.5\n",
    "    return w1,b1,w2,b2,w3,b3\n",
    "\n",
    "def reLU(x):\n",
    "    return np.maximum(x,0)\n",
    "\n",
    "def sofmax(x):\n",
    "    a = x - np.max(x,0)\n",
    "    return np.exp(a)/sum(np.exp(a))\n",
    "\n",
    "def forward_p(w1,b1,w2,b2,w3,b3,X):\n",
    "    l1 = w1.dot(X)+b1\n",
    "    z1 = reLU(l1)\n",
    "    l2 = w2.dot(z1)+b2\n",
    "    z2 = reLU(l2)\n",
    "    l3 = w3.dot(z2)+b3\n",
    "    z3 = sofmax(l3)\n",
    "    return l1,z1,l2,z2,l3,z3\n",
    "\n",
    "def deriv_reLU(x):\n",
    "    return x > 0\n",
    "\n",
    "def one_hot(y):\n",
    "    Y = np.zeros((y.max()+1,y.size))\n",
    "    Y[y,np.arange(y.size)] = 1\n",
    "    return Y\n",
    "\n",
    "def back_p(l1,z1,w2,l2,z2,w3,z3,X,Y):\n",
    "    n = np.size(Y)\n",
    "    Y = one_hot(Y)\n",
    "    dz3 = z3-Y\n",
    "    dw3 = 1/n*dz3.dot(z2.T)\n",
    "    db3 = 1/n*np.sum(dz3)\n",
    "    dz2 = w3.T.dot(dz3) * deriv_reLU(l2)\n",
    "    dw2 = 1/n*dz2.dot(z1.T)\n",
    "    db2 = 1/n*np.sum(dz2)\n",
    "    dz1 = w2.T.dot(dz2) * deriv_reLU(l1)\n",
    "    dw1 = 1/n*dz1.dot(X.T)\n",
    "    db1 = 1/n*np.sum(dz1)\n",
    "    return dw1,db1,dw2,db2,dw3,db3\n",
    "\n",
    "def adj_param(db1,dw1,db2,dw2,db3,dw3,w1,b1,w2,b2,w3,b3,rate):\n",
    "    w1 = w1 - dw1*rate\n",
    "    b1 = b1 - db1*rate\n",
    "    w2 = w2 - dw2*rate\n",
    "    b2 = b2 - db2*rate\n",
    "    w3 = w3 - dw3*rate\n",
    "    b3 = b3 - db3*rate\n",
    "    return w1,b1,w2,b2,w3,b3"
   ]
  },
  {
   "cell_type": "code",
   "execution_count": 22,
   "metadata": {},
   "outputs": [],
   "source": [
    "def get_predictions(z3):\n",
    "    return np.argmax(z3,0)\n",
    "\n",
    "def get_accuracy(predictions,Y):\n",
    "    print(predictions,Y)\n",
    "    return np.sum(predictions==Y)/Y.size\n",
    "\n",
    "def gradient_descent(X,Y,iterations,rate):\n",
    "    w1,b1,w2,b2,w3,b3 = init_param()\n",
    "    for i in range(iterations):\n",
    "        l1,z1,l2,z2,l3,z3 = forward_p(w1,b1,w2,b2,w3,b3,X)\n",
    "        dw1,db1,dw2,db2,dw3,db3 = back_p(l1,z1,w2,l2,z2,w3,z3,X,Y)\n",
    "        w1,b1,w2,b2,w3,b3 = adj_param(db1,dw1,db2,dw2,db3,dw3,w1,b1,w2,b2,w3,b3,rate)\n",
    "        if i%20 == 0:\n",
    "            print(\"Iteration: \",i)\n",
    "            print(\"Accuracy: \",get_accuracy(get_predictions(z3),Y))\n",
    "    return w1,b1,w2,b2,w3,b3"
   ]
  },
  {
   "cell_type": "code",
   "execution_count": 20,
   "metadata": {},
   "outputs": [
    {
     "data": {
      "text/plain": [
       "42000"
      ]
     },
     "execution_count": 20,
     "metadata": {},
     "output_type": "execute_result"
    }
   ],
   "source": [
    "np.size(y_train)"
   ]
  },
  {
   "cell_type": "code",
   "execution_count": 26,
   "metadata": {},
   "outputs": [
    {
     "name": "stdout",
     "output_type": "stream",
     "text": [
      "Iteration:  0\n",
      "[3 5 4 ... 6 5 9] [1 0 1 ... 7 6 9]\n",
      "Accuracy:  0.05961904761904762\n",
      "Iteration:  20\n",
      "[8 0 1 ... 4 0 8] [1 0 1 ... 7 6 9]\n",
      "Accuracy:  0.4700952380952381\n",
      "Iteration:  40\n",
      "[8 0 1 ... 7 0 8] [1 0 1 ... 7 6 9]\n",
      "Accuracy:  0.6217857142857143\n",
      "Iteration:  60\n",
      "[1 0 1 ... 7 0 8] [1 0 1 ... 7 6 9]\n",
      "Accuracy:  0.7001190476190476\n",
      "Iteration:  80\n",
      "[1 0 1 ... 7 0 8] [1 0 1 ... 7 6 9]\n",
      "Accuracy:  0.7443095238095238\n",
      "Iteration:  100\n",
      "[1 0 1 ... 7 6 8] [1 0 1 ... 7 6 9]\n",
      "Accuracy:  0.7733333333333333\n",
      "Iteration:  120\n",
      "[1 0 1 ... 7 6 8] [1 0 1 ... 7 6 9]\n",
      "Accuracy:  0.7945\n",
      "Iteration:  140\n",
      "[1 0 1 ... 7 6 8] [1 0 1 ... 7 6 9]\n",
      "Accuracy:  0.8107142857142857\n",
      "Iteration:  160\n",
      "[1 0 1 ... 7 6 8] [1 0 1 ... 7 6 9]\n",
      "Accuracy:  0.8232380952380952\n",
      "Iteration:  180\n",
      "[1 0 1 ... 7 6 8] [1 0 1 ... 7 6 9]\n",
      "Accuracy:  0.8331190476190476\n",
      "Iteration:  200\n",
      "[1 0 1 ... 7 6 8] [1 0 1 ... 7 6 9]\n",
      "Accuracy:  0.841\n",
      "Iteration:  220\n",
      "[1 0 1 ... 7 6 9] [1 0 1 ... 7 6 9]\n",
      "Accuracy:  0.8476904761904762\n",
      "Iteration:  240\n",
      "[1 0 1 ... 7 6 9] [1 0 1 ... 7 6 9]\n",
      "Accuracy:  0.8535714285714285\n",
      "Iteration:  260\n",
      "[1 0 1 ... 7 6 9] [1 0 1 ... 7 6 9]\n",
      "Accuracy:  0.8584047619047619\n",
      "Iteration:  280\n",
      "[1 0 1 ... 7 6 9] [1 0 1 ... 7 6 9]\n",
      "Accuracy:  0.8632619047619048\n",
      "Iteration:  300\n",
      "[1 0 1 ... 7 6 9] [1 0 1 ... 7 6 9]\n",
      "Accuracy:  0.8671904761904762\n",
      "Iteration:  320\n",
      "[1 0 1 ... 7 6 9] [1 0 1 ... 7 6 9]\n",
      "Accuracy:  0.8712857142857143\n",
      "Iteration:  340\n",
      "[1 0 1 ... 7 6 9] [1 0 1 ... 7 6 9]\n",
      "Accuracy:  0.8748333333333334\n",
      "Iteration:  360\n",
      "[1 0 1 ... 7 6 9] [1 0 1 ... 7 6 9]\n",
      "Accuracy:  0.8777142857142857\n",
      "Iteration:  380\n",
      "[1 0 1 ... 7 6 9] [1 0 1 ... 7 6 9]\n",
      "Accuracy:  0.8808095238095238\n",
      "Iteration:  400\n",
      "[1 0 1 ... 7 6 9] [1 0 1 ... 7 6 9]\n",
      "Accuracy:  0.8840714285714286\n",
      "Iteration:  420\n",
      "[1 0 1 ... 7 6 9] [1 0 1 ... 7 6 9]\n",
      "Accuracy:  0.8867380952380952\n",
      "Iteration:  440\n",
      "[1 0 1 ... 7 6 9] [1 0 1 ... 7 6 9]\n",
      "Accuracy:  0.8888571428571429\n",
      "Iteration:  460\n",
      "[1 0 1 ... 7 6 9] [1 0 1 ... 7 6 9]\n",
      "Accuracy:  0.8914761904761904\n",
      "Iteration:  480\n",
      "[1 0 1 ... 7 6 9] [1 0 1 ... 7 6 9]\n",
      "Accuracy:  0.8932857142857142\n",
      "Iteration:  500\n",
      "[1 0 1 ... 7 6 9] [1 0 1 ... 7 6 9]\n",
      "Accuracy:  0.8951428571428571\n"
     ]
    }
   ],
   "source": [
    "w1,b1,w2,b2,w3,b3 = gradient_descent(x_train,y_train,501,0.1)"
   ]
  },
  {
   "cell_type": "code",
   "execution_count": 41,
   "metadata": {},
   "outputs": [],
   "source": [
    "def make_predictions(X, W1, b1, W2, b2):\n",
    "    _,_,_,_,_,z3 = forward_p(w1,b1,w2,b2,w3,b3,X)\n",
    "    predictions = get_predictions(z3)\n",
    "    return predictions\n",
    "\n",
    "def test_prediction(index, w1, b1, w2, b2, W3, b3):\n",
    "    current_image = x_train[:, index, None]\n",
    "    prediction = make_predictions(x_train[:, index, None], w1, b1, w2, b2)\n",
    "    label = y_train[index]\n",
    "    print(\"Prediction: \", prediction)\n",
    "    print(\"Label: \", label)\n",
    "    \n",
    "    current_image = current_image.reshape((28, 28)) * 255\n",
    "    plt.gray()\n",
    "    plt.imshow(current_image, interpolation='nearest')\n",
    "    plt.show()"
   ]
  },
  {
   "cell_type": "code",
   "execution_count": 42,
   "metadata": {},
   "outputs": [
    {
     "name": "stdout",
     "output_type": "stream",
     "text": [
      "Prediction:  [5]\n",
      "Label:  5\n"
     ]
    },
    {
     "data": {
      "image/png": "[encoded data removed]",
      "text/plain": [
       "<Figure size 432x288 with 1 Axes>"
      ]
     },
     "metadata": {
      "needs_background": "light"
     },
     "output_type": "display_data"
    },
    {
     "name": "stdout",
     "output_type": "stream",
     "text": [
      "Prediction:  [8]\n",
      "Label:  8\n"
     ]
    },
    {
     "data": {
      "image/png": "[encoded data removed]",
      "text/plain": [
       "<Figure size 432x288 with 1 Axes>"
      ]
     },
     "metadata": {
      "needs_background": "light"
     },
     "output_type": "display_data"
    },
    {
     "name": "stdout",
     "output_type": "stream",
     "text": [
      "Prediction:  [1]\n",
      "Label:  1\n"
     ]
    },
    {
     "data": {
      "image/png": "[encoded data removed]",
      "text/plain": [
       "<Figure size 432x288 with 1 Axes>"
      ]
     },
     "metadata": {
      "needs_background": "light"
     },
     "output_type": "display_data"
    },
    {
     "name": "stdout",
     "output_type": "stream",
     "text": [
      "Prediction:  [0]\n",
      "Label:  0\n"
     ]
    },
    {
     "data": {
      "image/png": "[encoded data removed]",
      "text/plain": [
       "<Figure size 432x288 with 1 Axes>"
      ]
     },
     "metadata": {
      "needs_background": "light"
     },
     "output_type": "display_data"
    }
   ],
   "source": [
    "test_prediction(8, w1,b1,w2,b2,w3,b3)\n",
    "test_prediction(10, w1,b1,w2,b2,w3,b3)\n",
    "test_prediction(0, w1,b1,w2,b2,w3,b3)\n",
    "test_prediction(4, w1,b1,w2,b2,w3,b3)"
   ]
  },
  {
   "cell_type": "code",
   "execution_count": null,
   "metadata": {},
   "outputs": [],
   "source": [
    "dev_predictions = make_predictions(x_test, w1, b1, w2, b2)\n",
    "get_accuracy(dev_predictions, Y_test)"
   ]
  }
 ],
 "metadata": {
  "kernelspec": {
   "display_name": "Python 3 (ipykernel)",
   "language": "python",
   "name": "python3"
  },
  "language_info": {
   "codemirror_mode": {
    "name": "ipython",
    "version": 3
   },
   "file_extension": ".py",
   "mimetype": "text/x-python",
   "name": "python",
   "nbconvert_exporter": "python",
   "pygments_lexer": "ipython3",
   "version": "3.9.12"
  }
 },
 "nbformat": 4,
 "nbformat_minor": 4
}
