{
 "cells": [
  {
   "cell_type": "code",
   "execution_count": 1,
   "metadata": {},
   "outputs": [],
   "source": [
    "#importing necessary packages\n",
    "import pandas as pd\n",
    "import numpy as np\n",
    "from matplotlib import pyplot as plt"
   ]
  },
  {
   "cell_type": "code",
   "execution_count": 2,
   "metadata": {},
   "outputs": [],
   "source": [
    "#import data\n",
    "test = pd.read_csv(\"mnist_test.csv\")\n",
    "data = pd.read_csv(\"mnist_train.csv\")"
   ]
  },
  {
   "cell_type": "code",
   "execution_count": 3,
   "metadata": {},
   "outputs": [],
   "source": [
    "#scaling the data\n",
    "y_train = np.array(data).T[0]\n",
    "x_train = np.array(data).T[1:]\n",
    "x_train = x_train/255\n",
    "\n",
    "Y_test = np.array(test).T[0]\n",
    "x_test = np.array(test).T[1:]\n",
    "x_test = x_test/255"
   ]
  },
  {
   "cell_type": "code",
   "execution_count": 4,
   "metadata": {},
   "outputs": [],
   "source": [
    "#intializing model parameters\n",
    "def init_param():\n",
    "    w1 = np.random.rand(50,784)-0.5\n",
    "    b1 = np.random.rand(50,1)-0.5\n",
    "    w2 = np.random.rand(30,50)-0.5\n",
    "    b2 = np.random.rand(30,1)-0.5\n",
    "    w3 = np.random.rand(10,30)-0.5\n",
    "    b3 = np.random.rand(10,1)-0.5\n",
    "    return w1,b1,w2,b2,w3,b3\n",
    "\n",
    "def reLU(x):\n",
    "    return np.maximum(x,0)\n",
    "\n",
    "def sofmax(x):\n",
    "    a = x - np.max(x,0)\n",
    "    return np.exp(a)/sum(np.exp(a))\n",
    "\n",
    "#forward propagation\n",
    "def forward_p(w1,b1,w2,b2,w3,b3,X):\n",
    "    l1 = w1.dot(X)+b1\n",
    "    z1 = reLU(l1)\n",
    "    l2 = w2.dot(z1)+b2\n",
    "    z2 = reLU(l2)\n",
    "    l3 = w3.dot(z2)+b3\n",
    "    z3 = sofmax(l3)\n",
    "    return l1,z1,l2,z2,l3,z3\n",
    "\n",
    "def deriv_reLU(x):\n",
    "    return x > 0\n",
    "\n",
    "def one_hot(y):\n",
    "    Y = np.zeros((y.max()+1,y.size))\n",
    "    Y[y,np.arange(y.size)] = 1\n",
    "    return Y\n",
    "\n",
    "#back propagation\n",
    "def back_p(l1,z1,w2,l2,z2,w3,z3,X,Y):\n",
    "    n = np.size(Y)\n",
    "    Y = one_hot(Y)\n",
    "    dz3 = z3-Y\n",
    "    dw3 = 1/n*dz3.dot(z2.T)\n",
    "    db3 = 1/n*np.sum(dz3)\n",
    "    dz2 = w3.T.dot(dz3) * deriv_reLU(l2)\n",
    "    dw2 = 1/n*dz2.dot(z1.T)\n",
    "    db2 = 1/n*np.sum(dz2)\n",
    "    dz1 = w2.T.dot(dz2) * deriv_reLU(l1)\n",
    "    dw1 = 1/n*dz1.dot(X.T)\n",
    "    db1 = 1/n*np.sum(dz1)\n",
    "    return dw1,db1,dw2,db2,dw3,db3\n",
    "\n",
    "#adjusting weights and biases\n",
    "def adj_param(db1,dw1,db2,dw2,db3,dw3,w1,b1,w2,b2,w3,b3,rate):\n",
    "    w1 = w1 - dw1*rate\n",
    "    b1 = b1 - db1*rate\n",
    "    w2 = w2 - dw2*rate\n",
    "    b2 = b2 - db2*rate\n",
    "    w3 = w3 - dw3*rate\n",
    "    b3 = b3 - db3*rate\n",
    "    return w1,b1,w2,b2,w3,b3"
   ]
  },
  {
   "cell_type": "code",
   "execution_count": 5,
   "metadata": {},
   "outputs": [],
   "source": [
    "def get_predictions(z3):\n",
    "    return np.argmax(z3,0)\n",
    "\n",
    "def get_accuracy(predictions,Y):\n",
    "    print(predictions,Y)\n",
    "    return np.sum(predictions==Y)/Y.size\n",
    "\n",
    "def gradient_descent(X,Y,iterations,rate):\n",
    "    w1,b1,w2,b2,w3,b3 = init_param()\n",
    "    for i in range(iterations):\n",
    "        l1,z1,l2,z2,l3,z3 = forward_p(w1,b1,w2,b2,w3,b3,X)\n",
    "        dw1,db1,dw2,db2,dw3,db3 = back_p(l1,z1,w2,l2,z2,w3,z3,X,Y)\n",
    "        w1,b1,w2,b2,w3,b3 = adj_param(db1,dw1,db2,dw2,db3,dw3,w1,b1,w2,b2,w3,b3,rate)\n",
    "        if i%50 == 0:\n",
    "            print(\"Iteration: \",i)\n",
    "            print(\"Accuracy: \",get_accuracy(get_predictions(z3),Y))\n",
    "    return w1,b1,w2,b2,w3,b3"
   ]
  },
  {
   "cell_type": "code",
   "execution_count": 6,
   "metadata": {},
   "outputs": [
    {
     "name": "stdout",
     "output_type": "stream",
     "text": [
      "Iteration:  0\n",
      "[3 4 2 ... 3 1 4] [5 0 4 ... 5 6 8]\n",
      "Accuracy:  0.10365\n",
      "Iteration:  50\n",
      "[5 0 4 ... 5 2 8] [5 0 4 ... 5 6 8]\n",
      "Accuracy:  0.6514666666666666\n",
      "Iteration:  100\n",
      "[5 0 4 ... 5 2 5] [5 0 4 ... 5 6 8]\n",
      "Accuracy:  0.7722666666666667\n",
      "Iteration:  150\n",
      "[5 0 4 ... 5 6 5] [5 0 4 ... 5 6 8]\n",
      "Accuracy:  0.8206166666666667\n",
      "Iteration:  200\n",
      "[5 0 4 ... 5 6 5] [5 0 4 ... 5 6 8]\n",
      "Accuracy:  0.8464333333333334\n",
      "Iteration:  250\n",
      "[5 0 4 ... 5 6 5] [5 0 4 ... 5 6 8]\n",
      "Accuracy:  0.86145\n",
      "Iteration:  300\n",
      "[5 0 4 ... 5 6 5] [5 0 4 ... 5 6 8]\n",
      "Accuracy:  0.87385\n",
      "Iteration:  350\n",
      "[5 0 4 ... 5 6 5] [5 0 4 ... 5 6 8]\n",
      "Accuracy:  0.8793166666666666\n",
      "Iteration:  400\n",
      "[5 0 4 ... 5 6 5] [5 0 4 ... 5 6 8]\n",
      "Accuracy:  0.88765\n",
      "Iteration:  450\n",
      "[5 0 4 ... 5 6 5] [5 0 4 ... 5 6 8]\n",
      "Accuracy:  0.8935333333333333\n",
      "Iteration:  500\n",
      "[5 0 4 ... 5 6 5] [5 0 4 ... 5 6 8]\n",
      "Accuracy:  0.8976666666666666\n",
      "Iteration:  550\n",
      "[5 0 4 ... 5 6 5] [5 0 4 ... 5 6 8]\n",
      "Accuracy:  0.9014166666666666\n",
      "Iteration:  600\n",
      "[5 0 4 ... 5 6 5] [5 0 4 ... 5 6 8]\n",
      "Accuracy:  0.9046833333333333\n",
      "Iteration:  650\n",
      "[5 0 4 ... 5 6 5] [5 0 4 ... 5 6 8]\n",
      "Accuracy:  0.9082\n",
      "Iteration:  700\n",
      "[5 0 4 ... 5 6 5] [5 0 4 ... 5 6 8]\n",
      "Accuracy:  0.9109333333333334\n",
      "Iteration:  750\n",
      "[5 0 4 ... 5 6 5] [5 0 4 ... 5 6 8]\n",
      "Accuracy:  0.91375\n",
      "Iteration:  800\n",
      "[5 0 4 ... 5 6 5] [5 0 4 ... 5 6 8]\n",
      "Accuracy:  0.9155333333333333\n",
      "Iteration:  850\n",
      "[5 0 4 ... 5 6 5] [5 0 4 ... 5 6 8]\n",
      "Accuracy:  0.9173833333333333\n",
      "Iteration:  900\n",
      "[5 0 4 ... 5 6 5] [5 0 4 ... 5 6 8]\n",
      "Accuracy:  0.91935\n",
      "Iteration:  950\n",
      "[5 0 4 ... 5 6 5] [5 0 4 ... 5 6 8]\n",
      "Accuracy:  0.9207333333333333\n",
      "Iteration:  1000\n",
      "[5 0 4 ... 5 6 5] [5 0 4 ... 5 6 8]\n",
      "Accuracy:  0.92235\n"
     ]
    }
   ],
   "source": [
    "w1,b1,w2,b2,w3,b3 = gradient_descent(x_train,y_train,1001,0.1)"
   ]
  },
  {
   "cell_type": "code",
   "execution_count": 7,
   "metadata": {},
   "outputs": [],
   "source": [
    "def make_predictions(X,w1,b1,w2,b2,w3,b3):\n",
    "    _,_,_,_,_,z3 = forward_p(w1,b1,w2,b2,w3,b3,X)\n",
    "    predictions = get_predictions(z3)\n",
    "    return predictions\n",
    "\n",
    "def test_prediction(index, w1,b1,w2,b2,w3,b3):\n",
    "    current_image = x_train[:, index, None]\n",
    "    prediction = make_predictions(x_train[:, index, None], w1,b1,w2,b2,w3,b3)\n",
    "    label = y_train[index]\n",
    "    print(\"Prediction: \", prediction)\n",
    "    print(\"Label: \", label)\n",
    "    \n",
    "    current_image = current_image.reshape((28, 28)) * 255\n",
    "    plt.gray()\n",
    "    plt.imshow(current_image, interpolation='nearest')\n",
    "    plt.show()"
   ]
  },
  {
   "cell_type": "code",
   "execution_count": 8,
   "metadata": {},
   "outputs": [
    {
     "name": "stdout",
     "output_type": "stream",
     "text": [
      "Prediction:  [4]\n",
      "Label:  4\n"
     ]
    },
    {
     "data": {
      "image/png": "[encoded data removed]",
      "text/plain": [
       "<Figure size 432x288 with 1 Axes>"
      ]
     },
     "metadata": {
      "needs_background": "light"
     },
     "output_type": "display_data"
    },
    {
     "name": "stdout",
     "output_type": "stream",
     "text": [
      "Prediction:  [7]\n",
      "Label:  7\n"
     ]
    },
    {
     "data": {
      "image/png": "[encoded data removed]",
      "text/plain": [
       "<Figure size 432x288 with 1 Axes>"
      ]
     },
     "metadata": {
      "needs_background": "light"
     },
     "output_type": "display_data"
    },
    {
     "name": "stdout",
     "output_type": "stream",
     "text": [
      "Prediction:  [0]\n",
      "Label:  0\n"
     ]
    },
    {
     "data": {
      "image/png": "[encoded data removed]",
      "text/plain": [
       "<Figure size 432x288 with 1 Axes>"
      ]
     },
     "metadata": {
      "needs_background": "light"
     },
     "output_type": "display_data"
    },
    {
     "name": "stdout",
     "output_type": "stream",
     "text": [
      "Prediction:  [7]\n",
      "Label:  7\n"
     ]
    },
    {
     "data": {
      "image/png": "[encoded data removed]",
      "text/plain": [
       "<Figure size 432x288 with 1 Axes>"
      ]
     },
     "metadata": {
      "needs_background": "light"
     },
     "output_type": "display_data"
    }
   ],
   "source": [
    "x = 0\n",
    "while x < 4:\n",
    "    test_prediction(np.random.randint(0,x_train.shape[1]), w1,b1,w2,b2,w3,b3)\n",
    "    x += 1"
   ]
  },
  {
   "cell_type": "code",
   "execution_count": 9,
   "metadata": {},
   "outputs": [
    {
     "name": "stdout",
     "output_type": "stream",
     "text": [
      "[7 2 1 ... 4 5 6] [7 2 1 ... 4 5 6]\n"
     ]
    },
    {
     "data": {
      "text/plain": [
       "0.9218"
      ]
     },
     "execution_count": 9,
     "metadata": {},
     "output_type": "execute_result"
    }
   ],
   "source": [
    "#Finding accuracy using test data\n",
    "dev_predictions = make_predictions(x_test, w1,b1,w2,b2,w3,b3)\n",
    "get_accuracy(dev_predictions, Y_test)"
   ]
  }
 ],
 "metadata": {
  "kernelspec": {
   "display_name": "Python 3 (ipykernel)",
   "language": "python",
   "name": "python3"
  },
  "language_info": {
   "codemirror_mode": {
    "name": "ipython",
    "version": 3
   },
   "file_extension": ".py",
   "mimetype": "text/x-python",
   "name": "python",
   "nbconvert_exporter": "python",
   "pygments_lexer": "ipython3",
   "version": "3.9.12"
  }
 },
 "nbformat": 4,
 "nbformat_minor": 4
}
